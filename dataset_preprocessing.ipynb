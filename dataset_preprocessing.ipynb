{
 "cells": [
  {
   "attachments": {},
   "cell_type": "markdown",
   "metadata": {},
   "source": [
    "# Etape 1 - Preprocessing du dataset"
   ]
  },
  {
   "cell_type": "code",
   "execution_count": null,
   "metadata": {},
   "outputs": [],
   "source": [
    "# Import librairies\n",
    "import os\n",
    "import re\n",
    "import sys\n",
    "\n",
    "\n",
    "import csv\n",
    "import pandas as pd\n",
    "import numpy as np\n",
    "import warnings"
   ]
  },
  {
   "cell_type": "code",
   "execution_count": null,
   "metadata": {},
   "outputs": [],
   "source": [
    "# Set paths\n",
    "path = \".\"\n",
    "os.chdir(path)\n",
    "data_path = path + \"\\\\data\"\n",
    "output_path = path + \"\\\\outputs\"\n",
    "fig_path = path + \"\\\\figures\""
   ]
  },
  {
   "cell_type": "code",
   "execution_count": null,
   "metadata": {},
   "outputs": [],
   "source": [
    "# Suppression des FutureWarnings\n",
    "warnings.simplefilter(action='ignore', category=FutureWarning)\n",
    "warnings.simplefilter(action='ignore', category=DeprecationWarning)"
   ]
  },
  {
   "cell_type": "code",
   "execution_count": null,
   "metadata": {},
   "outputs": [],
   "source": [
    "# Import des données\n",
    "with open(os.path.join(data_path, 'export.dsv'), 'r', newline='', encoding=\"latin\") as csv_file:\n",
    "    csv_reader = csv.reader(csv_file, delimiter='\\t',)\n",
    "    data=list(csv_reader)"
   ]
  },
  {
   "cell_type": "code",
   "execution_count": null,
   "metadata": {},
   "outputs": [],
   "source": [
    "# Verification du format des données\n",
    "df = pd.DataFrame(data[1:], columns=data[0]+[\"A\", \"B\"])\n",
    "print(f\"le Fichier de données contient {df.shape[0]} lignes et  {df.shape[1]} colonnes\")"
   ]
  },
  {
   "cell_type": "code",
   "execution_count": null,
   "metadata": {},
   "outputs": [],
   "source": [
    "# Visualisation\n",
    "df.head()"
   ]
  },
  {
   "cell_type": "code",
   "execution_count": null,
   "metadata": {},
   "outputs": [],
   "source": [
    "# Recherche des lignes mal formattées\n",
    "data_to_check = df[(~df[\"A\"].isna()) | (~df[\"B\"].isna())]\n",
    "print(\"Nombre d'ouvrages avec soucis d'importation :\", data_to_check.shape)\n",
    "data_to_check"
   ]
  },
  {
   "cell_type": "code",
   "execution_count": null,
   "metadata": {},
   "outputs": [],
   "source": [
    "# Export des données à vérifier\n",
    "data_to_check.to_csv(os.path.join(output_path, \"data_to_check.csv\"), index=0, encoding=\"latin-1\")"
   ]
  },
  {
   "cell_type": "code",
   "execution_count": null,
   "metadata": {},
   "outputs": [],
   "source": [
    "# On ne garde que les données correctement importées\n",
    "df = df.drop(index = data_to_check.index)\n",
    "df"
   ]
  },
  {
   "cell_type": "code",
   "execution_count": null,
   "metadata": {},
   "outputs": [],
   "source": [
    "# Verification que les colonnes A et B sont vides\n",
    "print(\"Colonne A: \", all(df[\"A\"].isna()))\n",
    "print(\"Colonne B: \", all(df[\"B\"].isna()))"
   ]
  },
  {
   "cell_type": "code",
   "execution_count": null,
   "metadata": {},
   "outputs": [],
   "source": [
    "# Suppression des colonnes vides\n",
    "df.dropna(axis=1, inplace=True)\n",
    "df.shape"
   ]
  },
  {
   "cell_type": "code",
   "execution_count": null,
   "metadata": {},
   "outputs": [],
   "source": [
    "# Echantillon de visualisation\n",
    "df.head()"
   ]
  },
  {
   "cell_type": "code",
   "execution_count": null,
   "metadata": {},
   "outputs": [],
   "source": [
    "# Ajout d'une colonne description (Titre + resumé)\n",
    "df.loc[:,\"DESCR\"] = df.loc[:, 'TITRE'] + ' ' + df.loc[:, 'RESUME']"
   ]
  },
  {
   "cell_type": "code",
   "execution_count": null,
   "metadata": {},
   "outputs": [],
   "source": [
    "# Get Domain according to Dewey code\n",
    "ddc = \"154.85\"\n",
    "pattern_tenth = re.compile(r'\\d{2}0|00[0-9]|944|796')\n",
    "pattern_unit= re.compile(r'\\d{2}[1-9]')\n",
    "\n",
    "def get_domain_from_ddc(ddc):\n",
    "    if re.findall(pattern_tenth, ddc):\n",
    "        tef = str(re.findall(pattern_tenth, ddc)[0])\n",
    "    elif re.findall(pattern_unit, ddc):\n",
    "        tef = str(re.findall(pattern_unit, ddc)[0][:-1] + str(0))\n",
    "    else:\n",
    "        tef = None\n",
    "    return tef"
   ]
  },
  {
   "cell_type": "code",
   "execution_count": null,
   "metadata": {},
   "outputs": [],
   "source": [
    "# Get Domain according to Dewey code\n",
    "ddc = \"154.85\"\n",
    "pattern_tenth = re.compile(r'\\d{2}0|00[0-9]|944|796')\n",
    "pattern_unit= re.compile(r'\\d{2}[1-9]')\n",
    "re.findall(pattern_unit, ddc)[0][:-1] + str(0)"
   ]
  },
  {
   "cell_type": "code",
   "execution_count": null,
   "metadata": {},
   "outputs": [],
   "source": [
    "df[\"DDC\"] = df[\"DEWEY\"].apply(lambda x: get_domain_from_ddc(x))"
   ]
  },
  {
   "cell_type": "code",
   "execution_count": null,
   "metadata": {},
   "outputs": [],
   "source": [
    "# Vérification du format des colonnes\n",
    "df.info()"
   ]
  },
  {
   "cell_type": "code",
   "execution_count": null,
   "metadata": {},
   "outputs": [],
   "source": [
    "df.head(50)"
   ]
  },
  {
   "cell_type": "code",
   "execution_count": null,
   "metadata": {},
   "outputs": [],
   "source": [
    "# Merge with TEF labels\n",
    "ddc = pd.read_csv(os.path.join(data_path, \"dewey_label.csv\"), index_col=0, dtype=str)\n",
    "ddc.head()"
   ]
  },
  {
   "cell_type": "code",
   "execution_count": null,
   "metadata": {},
   "outputs": [],
   "source": [
    "# Merge \n",
    "working_df = df.merge(ddc, on=\"DDC\", how='left')\n",
    "print(working_df.shape)\n",
    "working_df.head()"
   ]
  },
  {
   "cell_type": "code",
   "execution_count": null,
   "metadata": {},
   "outputs": [],
   "source": [
    "working_df.to_csv(os.path.join(data_path, 'working_data.csv'))"
   ]
  }
 ],
 "metadata": {
  "kernelspec": {
   "display_name": "abes_index",
   "language": "python",
   "name": "python3"
  },
  "language_info": {
   "codemirror_mode": {
    "name": "ipython",
    "version": 3
   },
   "file_extension": ".py",
   "mimetype": "text/x-python",
   "name": "python",
   "nbconvert_exporter": "python",
   "pygments_lexer": "ipython3",
   "version": "3.10.10"
  },
  "vscode": {
   "interpreter": {
    "hash": "79d7ff32004ac4c5bc1812f118fca289ef6cc0cea24529fb05e42e57e2fccd5e"
   }
  }
 },
 "nbformat": 4,
 "nbformat_minor": 2
}
