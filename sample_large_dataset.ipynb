{
 "cells": [
  {
   "attachments": {},
   "cell_type": "markdown",
   "metadata": {},
   "source": [
    "# Etape 1 - Preprocessing du dataset"
   ]
  },
  {
   "cell_type": "code",
   "execution_count": null,
   "metadata": {},
   "outputs": [],
   "source": [
    "# Import librairies\n",
    "import os\n",
    "import re\n",
    "import sys\n",
    "\n",
    "import csv\n",
    "import matplotlib.pyplot as plt\n",
    "import numpy as np\n",
    "import pandas as pd\n",
    "import seaborn as sns\n",
    "import warnings\n",
    "\n",
    "from collections import Counter"
   ]
  },
  {
   "cell_type": "code",
   "execution_count": null,
   "metadata": {},
   "outputs": [],
   "source": [
    "# Set paths\n",
    "path = \".\"\n",
    "os.chdir(path)\n",
    "data_path = path + \"\\\\data\"\n",
    "output_path = path + \"\\\\outputs\"\n",
    "fig_path = path + \"\\\\figures\""
   ]
  },
  {
   "cell_type": "code",
   "execution_count": null,
   "metadata": {},
   "outputs": [],
   "source": [
    "# Suppression des FutureWarnings\n",
    "warnings.simplefilter(action='ignore', category=FutureWarning)\n",
    "warnings.simplefilter(action='ignore', category=DeprecationWarning)"
   ]
  },
  {
   "cell_type": "code",
   "execution_count": null,
   "metadata": {},
   "outputs": [],
   "source": [
    "# Activation PEP8\n",
    "%load_ext pycodestyle_magic\n",
    "%pycodestyle_on"
   ]
  },
  {
   "cell_type": "code",
   "execution_count": null,
   "metadata": {},
   "outputs": [],
   "source": [
    "# Parametres graphiques\n",
    "%matplotlib inline\n",
    "rc = {\n",
    "    'font.size': 14,\n",
    "    'font.family': 'Arial',\n",
    "    'axes.labelsize': 14,\n",
    "    'legend.fontsize': 12,\n",
    "    'axes.titlesize': 14,\n",
    "    'xtick.labelsize': 12,\n",
    "    'ytick.labelsize': 12,\n",
    "    'figure.max_open_warning': 30}\n",
    "\n",
    "sns.set(font='Arial', rc=rc)\n",
    "sns.set_style(\n",
    "    \"whitegrid\", {\n",
    "        'axes.edgecolor': 'k',\n",
    "        'axes.linewidth': 1,\n",
    "        'axes.grid': True,\n",
    "        'xtick.major.width': 1,\n",
    "        'ytick.major.width': 1\n",
    "        })\n",
    "sns.set_context(\n",
    "    \"notebook\",\n",
    "    font_scale=1.1,\n",
    "    rc={\"lines.linewidth\": 1.5})\n",
    "pd.set_option('display.max_columns', None)"
   ]
  },
  {
   "cell_type": "code",
   "execution_count": null,
   "metadata": {},
   "outputs": [],
   "source": [
    "# Import des données\n",
    "filename = \"export_sans_dewey.dsv\"\n",
    "with open(os.path.join(data_path, filename), 'r', newline='', encoding=\"utf-8\") as csv_file:\n",
    "    csv_reader = csv.reader(csv_file, delimiter='\\t',)\n",
    "    data = list(csv_reader)"
   ]
  },
  {
   "cell_type": "code",
   "execution_count": null,
   "metadata": {},
   "outputs": [],
   "source": [
    "data"
   ]
  },
  {
   "cell_type": "code",
   "execution_count": null,
   "metadata": {},
   "outputs": [],
   "source": [
    "# Define dimension\n",
    "nb_notice = len(data)\n",
    "print(f\"There are {nb_notice} in this file\")"
   ]
  },
  {
   "cell_type": "code",
   "execution_count": null,
   "metadata": {},
   "outputs": [],
   "source": [
    "# Check number of column\n",
    "len_col = []\n",
    "for row in data:\n",
    "    len_col.append(len(row))\n",
    "max_number_col = max(len_col)\n",
    "print(f\"There are till {max_number_col} in this file\")"
   ]
  },
  {
   "cell_type": "code",
   "execution_count": null,
   "metadata": {},
   "outputs": [],
   "source": [
    "# Show distribution\n",
    "sns.histplot(len_col)"
   ]
  },
  {
   "cell_type": "code",
   "execution_count": null,
   "metadata": {},
   "outputs": [],
   "source": [
    "# Checking and removing badly formatted notices\n",
    "official_nb_col = 5\n",
    "bad_formated_notices = [x for x in len_col if x != official_nb_col]\n",
    "print(f\"There are {len(bad_formated_notices)} badly formatted notices\")\n",
    "\n",
    "ids_to_keep = [True if x == official_nb_col else False for x in len_col]\n",
    "print(f\"There are {sum(ids_to_keep)} well formatted rows\")\n",
    "\n",
    "data = [row for row, boo in zip(data, ids_to_keep) if boo]\n",
    "print(f\"Working dataset has {len(data)-1} notices\")"
   ]
  },
  {
   "cell_type": "code",
   "execution_count": null,
   "metadata": {},
   "outputs": [],
   "source": [
    "# Creation du fichier de données à vérifier\n",
    "data_to_check = [row for row, boo in zip(data, ids_to_keep) if not boo]\n",
    "print(f\"Need to check {len(data_to_check)} notices extractions\")\n",
    "\n",
    "data_to_check = pd.DataFrame(data_to_check)\n",
    "print(data_to_check.shape)\n",
    "data_to_check.head()"
   ]
  },
  {
   "cell_type": "code",
   "execution_count": null,
   "metadata": {},
   "outputs": [],
   "source": [
    "# Export des données à vérifier\n",
    "data_to_check.to_csv(\n",
    "    os.path.join(data_path, \"data_to_check_LargeExtraction.csv\"),\n",
    "    index=0)"
   ]
  },
  {
   "cell_type": "code",
   "execution_count": null,
   "metadata": {},
   "outputs": [],
   "source": [
    "# Verification du format des données\n",
    "df = pd.DataFrame(data[1:], columns=data[0])\n",
    "print(f\"le Fichier de données contient {df.shape[0]} lignes et  {df.shape[1]} colonnes\")"
   ]
  },
  {
   "cell_type": "code",
   "execution_count": null,
   "metadata": {},
   "outputs": [],
   "source": [
    "# Visualisation\n",
    "df.head()"
   ]
  },
  {
   "cell_type": "code",
   "execution_count": null,
   "metadata": {},
   "outputs": [],
   "source": [
    "# Ajout d'une colonne description (Titre + resumé)\n",
    "df.loc[:, \"DESCR\"] = df.loc[:, 'TITRE'] + ' ' + df.loc[:, 'RESUME']"
   ]
  },
  {
   "attachments": {},
   "cell_type": "markdown",
   "metadata": {},
   "source": [
    "# Get RAMEAU labels (vedettes)"
   ]
  },
  {
   "cell_type": "code",
   "execution_count": null,
   "metadata": {},
   "outputs": [],
   "source": [
    "# Mettre à plat TOUS les mots clé\n",
    "pattern=re.compile(r\"[\\w;^\\s]| -- \")\n",
    "df[\"rameau_list_unstack\"] = df[\"RAMEAU\"].apply(lambda x: re.split(r';\\s*(?![^()]*\\))| -- ', x))\n",
    "df.loc[1:20, [\"RAMEAU\",\"rameau_list_unstack\"]]"
   ]
  },
  {
   "cell_type": "code",
   "execution_count": null,
   "metadata": {},
   "outputs": [],
   "source": [
    "def flatten(l):\n",
    "    return [item for sublist in l for item in sublist]"
   ]
  },
  {
   "cell_type": "code",
   "execution_count": null,
   "metadata": {},
   "outputs": [],
   "source": [
    "keywords = flatten(df['rameau_list_unstack'])\n",
    "print(f\"There are {len(set(keywords))} different RAMEAU labels (Vedettes)\")"
   ]
  },
  {
   "cell_type": "code",
   "execution_count": null,
   "metadata": {},
   "outputs": [],
   "source": [
    "# Répartition des vedettes\n",
    "print(Counter(keywords))"
   ]
  },
  {
   "cell_type": "code",
   "execution_count": null,
   "metadata": {},
   "outputs": [],
   "source": [
    "from wordcloud import WordCloud\n",
    "wordcloud = WordCloud(width=1000, height=500, background_color='white').generate_from_frequencies(Counter(keywords))\n",
    "plt.figure(figsize=(15,8))\n",
    "plt.imshow(wordcloud)"
   ]
  },
  {
   "attachments": {},
   "cell_type": "markdown",
   "metadata": {},
   "source": [
    "### Retirer les notices avec les mits clés \"ouvrages pour la jeunesse\" et \"romans pour la jeunesse\""
   ]
  },
  {
   "cell_type": "code",
   "execution_count": null,
   "metadata": {},
   "outputs": [],
   "source": [
    "def check_strings(df, col, string):\n",
    "    res = []\n",
    "    res = df[col].apply(lambda x: string in x)\n",
    "    print(f\"Nbre de notices contenant le concept {string} : {sum(res)}\")\n",
    "    return res"
   ]
  },
  {
   "cell_type": "code",
   "execution_count": null,
   "metadata": {},
   "outputs": [],
   "source": [
    "# Check notices\n",
    "string = \"Ouvrages pour la jeunesse\"\n",
    "col = \"rameau_list_unstack\"\n",
    "is_string = check_strings(df, col, string)"
   ]
  },
  {
   "cell_type": "code",
   "execution_count": null,
   "metadata": {},
   "outputs": [],
   "source": [
    "# Check notices\n",
    "string = \"Roman pour la jeunesse\"\n",
    "col = \"rameau_list_unstack\"\n",
    "is_string2 = check_strings(df, col, string)"
   ]
  },
  {
   "cell_type": "code",
   "execution_count": null,
   "metadata": {},
   "outputs": [],
   "source": [
    "# Reduction du jeu de données\n",
    "df_reduced = df[(is_string+is_string2) == 0]\n",
    "print(df_reduced.shape)"
   ]
  },
  {
   "cell_type": "code",
   "execution_count": null,
   "metadata": {},
   "outputs": [],
   "source": [
    "# Wordcloud\n",
    "keywords2 = flatten(df_reduced['rameau_list_unstack'])\n",
    "wordcloud2 = WordCloud(\n",
    "    width=1000, height=500, background_color='white'\n",
    "    ).generate_from_frequencies(Counter(keywords2))\n",
    "plt.figure(figsize=(15, 8))\n",
    "plt.imshow(wordcloud2)"
   ]
  },
  {
   "attachments": {},
   "cell_type": "markdown",
   "metadata": {},
   "source": [
    "# Clustering avant échantillonnage"
   ]
  },
  {
   "cell_type": "code",
   "execution_count": null,
   "metadata": {},
   "outputs": [],
   "source": [
    "# echantillonnage\n",
    "nsample = 100000\n",
    "df_sample = df_reduced.sample(n=nsample).reset_index()\n",
    "df_sample.shape"
   ]
  },
  {
   "cell_type": "code",
   "execution_count": null,
   "metadata": {},
   "outputs": [],
   "source": [
    "# Encodage des mots clés\n",
    "from sklearn.preprocessing import MultiLabelBinarizer, LabelEncoder\n",
    "mlb = MultiLabelBinarizer()\n",
    "labels_encoded = mlb.fit_transform(df_sample[\"rameau_list_unstack\"])\n",
    "classes = mlb.classes_"
   ]
  },
  {
   "cell_type": "code",
   "execution_count": null,
   "metadata": {},
   "outputs": [],
   "source": [
    "# Check encoding\n",
    "labels_encoded"
   ]
  },
  {
   "cell_type": "code",
   "execution_count": null,
   "metadata": {},
   "outputs": [],
   "source": [
    "# Check inverse transformation\n",
    "nlab = 5\n",
    "labels_true = df_sample.loc[:5, \"rameau_list_unstack\"]\n",
    "print(f\"True {nlab} first labels : {labels_true}\")\n",
    "print(f\"Recoded {nlab} first labels : {mlb.inverse_transform(labels_encoded[:nlab])}\")"
   ]
  },
  {
   "cell_type": "code",
   "execution_count": null,
   "metadata": {},
   "outputs": [],
   "source": [
    "# Check classes\n",
    "nbr = 50\n",
    "print(f\"{classes[:nbr]} premiers mots clés (ordre alphabetique)\")\n",
    "print(f\"{classes[-nbr:]} derniers mots clés (ordre alphabetique)\")"
   ]
  },
  {
   "cell_type": "code",
   "execution_count": null,
   "metadata": {},
   "outputs": [],
   "source": [
    "# Clustering based on Kmeans\n",
    "from sklearn.cluster import KMeans\n",
    "from sklearn import metrics"
   ]
  },
  {
   "cell_type": "code",
   "execution_count": null,
   "metadata": {},
   "outputs": [],
   "source": [
    "# test different clusters\n",
    "sum_of_squared_distances = []\n",
    "K = range(1,30)\n",
    "for k in K:\n",
    "    print(f\"Clustering with {k} groups\")\n",
    "    k_means = KMeans(n_clusters=k)\n",
    "    model = k_means.fit(labels_encoded)\n",
    "    sum_of_squared_distances.append(k_means.inertia_)\n"
   ]
  },
  {
   "cell_type": "code",
   "execution_count": null,
   "metadata": {},
   "outputs": [],
   "source": [
    "# Plot inertia\n",
    "plt.plot(K, sum_of_squared_distances, 'bx-')\n",
    "plt.xlabel('k')\n",
    "plt.ylabel('sum_of_squared_distances')\n",
    "plt.title('elbow method for optimal k')\n",
    "plt.show()"
   ]
  },
  {
   "cell_type": "code",
   "execution_count": null,
   "metadata": {},
   "outputs": [],
   "source": [
    "# Best clustering\n",
    "k = 5\n",
    "k_means = KMeans(n_clusters=k)\n",
    "model = k_means.fit(labels_encoded)"
   ]
  },
  {
   "cell_type": "code",
   "execution_count": null,
   "metadata": {},
   "outputs": [],
   "source": [
    "# Graph des silhouettes\n",
    "from yellowbrick.cluster import SilhouetteVisualizer\n",
    "print(\"Graph des Silhouettes\\n\")\n",
    "silhouette_vis = SilhouetteVisualizer(model)\n",
    "silhouette_vis.fit(labels_encoded)\n",
    "silhouette_vis.poof()"
   ]
  },
  {
   "cell_type": "code",
   "execution_count": null,
   "metadata": {},
   "outputs": [],
   "source": [
    "model.labels_"
   ]
  },
  {
   "cell_type": "code",
   "execution_count": null,
   "metadata": {},
   "outputs": [],
   "source": [
    "# Plot clusters\n",
    "\n",
    "\n",
    "# Fit visualisation pipeline\n",
    "import sklearn\n",
    "from sklearn.manifold import TSNE\n",
    "tsne =  TSNE(init=\"pca\").fit_transform(labels_encoded)"
   ]
  },
  {
   "cell_type": "code",
   "execution_count": null,
   "metadata": {},
   "outputs": [],
   "source": [
    "# Plot TSNE\n",
    "plt.figure(figsize=(10, 10))\n",
    "axe = plt.axes()\n",
    "clusters = model.labels_\n",
    "num_classes = k\n",
    "palette = np.array(sns.color_palette(\"tab10\", num_classes))\n",
    "axe.scatter(x=tsne[:, 0], y=tsne[:, 1], c=palette[clusters.astype(int)])\n",
    "plt.legend()"
   ]
  },
  {
   "cell_type": "code",
   "execution_count": null,
   "metadata": {},
   "outputs": [],
   "source": []
  }
 ],
 "metadata": {
  "kernelspec": {
   "display_name": "abes_index",
   "language": "python",
   "name": "python3"
  },
  "language_info": {
   "codemirror_mode": {
    "name": "ipython",
    "version": 3
   },
   "file_extension": ".py",
   "mimetype": "text/x-python",
   "name": "python",
   "nbconvert_exporter": "python",
   "pygments_lexer": "ipython3",
   "version": "3.10.10"
  },
  "vscode": {
   "interpreter": {
    "hash": "79d7ff32004ac4c5bc1812f118fca289ef6cc0cea24529fb05e42e57e2fccd5e"
   }
  }
 },
 "nbformat": 4,
 "nbformat_minor": 2
}
