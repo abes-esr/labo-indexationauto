{
 "cells": [
  {
   "cell_type": "code",
   "execution_count": null,
   "metadata": {},
   "outputs": [],
   "source": [
    "import os\n",
    "import pandas as pd\n",
    "\n",
    "from annif_client import AnnifClient\n",
    "\n",
    "annif = AnnifClient(api_base='https://api.annif.org/v1/')\n"
   ]
  },
  {
   "cell_type": "code",
   "execution_count": null,
   "metadata": {},
   "outputs": [],
   "source": [
    "# Set paths\n",
    "path = \".\"\n",
    "os.chdir(path)\n",
    "data_path = path + \"\\\\data\"\n",
    "output_path = path + \"\\\\outputs\"\n",
    "fig_path = path + \"\\\\figs\""
   ]
  },
  {
   "cell_type": "code",
   "execution_count": null,
   "metadata": {},
   "outputs": [],
   "source": [
    "# Look at languages\n",
    "for project in annif.projects:\n",
    "    print(\"Project id: {:<16} lang: {}  name: {}\".format(\n",
    "        project['project_id'], project['language'], project['name']))"
   ]
  },
  {
   "cell_type": "code",
   "execution_count": null,
   "metadata": {},
   "outputs": [],
   "source": [
    "# Set project id\n",
    "project_id='yso-en'"
   ]
  },
  {
   "cell_type": "code",
   "execution_count": null,
   "metadata": {},
   "outputs": [],
   "source": [
    "# Try on text\n",
    "text = 'The quick brown fox jumped over the lazy dog'\n",
    "results = annif.suggest(project_id=project_id, text=text)"
   ]
  },
  {
   "cell_type": "code",
   "execution_count": null,
   "metadata": {},
   "outputs": [],
   "source": [
    "# Show results\n",
    "print(\"URI\\t\\t\\t\\t\\tscore\\tlabel\")\n",
    "for result in results:\n",
    "    print(\"<{}>\\t{:.4f}\\t{}\".format(result['uri'], result['score'], result['label']))"
   ]
  },
  {
   "cell_type": "code",
   "execution_count": null,
   "metadata": {},
   "outputs": [],
   "source": [
    "# Import data\n",
<<<<<<< HEAD
    "filename = \"working_data.csv\"\n",
    "output_filename = \"working_data_with_annif.csv\"\n",
=======
    "filename = \"working_data_sans_dewey.csv\"\n",
    "output_filename = \"working_data_sans_dewey_with_annif.csv\"\n",
>>>>>>> 2cd7abe9dc0f231d8dbd319045d38ba842cf1dea
    "df = pd.read_csv(os.path.join(data_path, filename), index_col=0)\n",
    "print(\"Dimension of dataframe: \", df.shape)"
   ]
  },
  {
   "cell_type": "code",
   "execution_count": null,
   "metadata": {},
   "outputs": [],
   "source": [
    "# Try on 1 notice\n",
    "text = df.loc[2, \"DESCR\"]\n",
    "text"
   ]
  },
  {
   "cell_type": "code",
   "execution_count": null,
   "metadata": {},
   "outputs": [],
   "source": [
    "results = annif.suggest(project_id=project_id, text=text)\n",
    "print(\"URI\\t\\t\\t\\t\\tscore\\tlabel\")\n",
    "for result in results:\n",
    "    print(\"<{}>\\t{:.4f}\\t{}\".format(result['uri'], result['score'], result['label']))"
   ]
  },
  {
   "cell_type": "code",
   "execution_count": null,
   "metadata": {},
   "outputs": [],
   "source": [
    "def store_annif_results(results):\n",
<<<<<<< HEAD
    "    annif = {}\n",
    "    for result in results:\n",
    "        annif[result['label']] = \"{:.4f}\".format(result['score'])\n",
    "\n",
    "    return annif"
=======
    "    label = []\n",
    "    score = []\n",
    "    for result in results:\n",
    "        label.append(result['label'])\n",
    "        score.append(\"{:.4f}\".format(result['score']))\n",
    "\n",
    "    return label, score"
>>>>>>> 2cd7abe9dc0f231d8dbd319045d38ba842cf1dea
   ]
  },
  {
   "cell_type": "code",
   "execution_count": null,
   "metadata": {},
   "outputs": [],
   "source": [
<<<<<<< HEAD
    "def get_annif_results(text, project_id='yso-en', limit=6):\n",
    "    results = annif.suggest(project_id=project_id, text=text, limit=limit)\n",
=======
    "def get_annif_results(text, project_id='yso-en'):\n",
    "    results = annif.suggest(project_id=project_id, text=text)\n",
>>>>>>> 2cd7abe9dc0f231d8dbd319045d38ba842cf1dea
    "    return results"
   ]
  },
  {
   "cell_type": "code",
   "execution_count": null,
   "metadata": {},
   "outputs": [],
   "source": [
<<<<<<< HEAD
    "def get_labels_from_annif(text, project_id='yso-en', limit=6):\n",
    "    results = annif.suggest(project_id=project_id, text=text, limit=limit)\n",
    "    annif_res = store_annif_results(results)\n",
    "\n",
    "    return annif_res\n"
=======
    "def predict_from_annif(text, project_id='yso-en', output=\"labels\"):\n",
    "    results = get_annif_results(text, project_id)\n",
    "    labels, scores = store_annif_results(results)\n",
    "    if output == 'labels':\n",
    "        return labels\n",
    "    else:\n",
    "        return scores"
>>>>>>> 2cd7abe9dc0f231d8dbd319045d38ba842cf1dea
   ]
  },
  {
   "cell_type": "code",
   "execution_count": null,
   "metadata": {},
   "outputs": [],
   "source": [
<<<<<<< HEAD
    "df[\"ANNIF\"] = df[\"DESCR\"].apply(lambda x: get_labels_from_annif(x, project_id='yso-en', limit=6))"
=======
    "df_annif = df.copy()\n",
    "df_annif[\"annif_labels\"] = df_annif[\"DESCR\"].apply(lambda x: predict_from_annif(x, output=\"labels\"))\n",
    "df_annif[\"annif_scores\"] = df_annif[\"DESCR\"].apply(lambda x: predict_from_annif(x, output=\"scores\"))"
>>>>>>> 2cd7abe9dc0f231d8dbd319045d38ba842cf1dea
   ]
  },
  {
   "cell_type": "code",
   "execution_count": null,
   "metadata": {},
   "outputs": [],
   "source": [
<<<<<<< HEAD
    "df[\"ANNIF\"]"
   ]
  },
  {
   "cell_type": "code",
   "execution_count": null,
   "metadata": {},
   "outputs": [],
   "source": [
    "df.to_csv(os.path.join(data_path, output_filename))"
=======
    "df_annif.to_csv(os.path.join(data_path, output_filename))"
>>>>>>> 2cd7abe9dc0f231d8dbd319045d38ba842cf1dea
   ]
  }
 ],
 "metadata": {
  "kernelspec": {
   "display_name": "abes_index",
   "language": "python",
   "name": "python3"
  },
  "language_info": {
   "codemirror_mode": {
    "name": "ipython",
    "version": 3
   },
   "file_extension": ".py",
   "mimetype": "text/x-python",
   "name": "python",
   "nbconvert_exporter": "python",
   "pygments_lexer": "ipython3",
   "version": "3.10.10"
  }
 },
 "nbformat": 4,
 "nbformat_minor": 2
}
