{
 "cells": [
  {
   "cell_type": "code",
   "execution_count": 1,
   "metadata": {},
   "outputs": [],
   "source": [
    "#!/usr/bin/env python\n",
    "# coding: utf-8"
   ]
  },
  {
   "attachments": {},
   "cell_type": "markdown",
   "metadata": {},
   "source": [
    "Test Machine Learning algorithms"
   ]
  },
  {
   "cell_type": "code",
   "execution_count": 2,
   "metadata": {},
   "outputs": [],
   "source": [
    "# Import librairies\n",
    "import os\n",
    "import re\n",
    "\n",
    "import joblib\n",
    "import matplotlib.pyplot as plt\n",
    "import numpy as np\n",
    "import pandas as pd\n",
    "import pickle\n",
    "import seaborn as sns\n",
    "import shutil\n",
    "import sys\n",
    "import warnings\n",
    "\n",
    "from nltk.classify.scikitlearn import SklearnClassifier\n",
    "from sklearn.tree import DecisionTreeClassifier\n",
    "from sklearn.ensemble import RandomForestClassifier, BaggingClassifier, GradientBoostingClassifier\n",
    "from sklearn.ensemble import GradientBoostingClassifier\n",
    "from sklearn.feature_extraction.text import TfidfVectorizer\n",
    "from sklearn.linear_model import LogisticRegression\n",
    "from sklearn.naive_bayes import MultinomialNB, GaussianNB\n",
    "from sklearn.neighbors import KNeighborsClassifier\n",
    "from sklearn.neural_network import MLPClassifier\n",
    "from sklearn.metrics import f1_score, accuracy_score, precision_score, recall_score\n",
    "from sklearn.metrics import hamming_loss, confusion_matrix, multilabel_confusion_matrix, classification_report\n",
    "from sklearn.metrics import coverage_error, label_ranking_average_precision_score, label_ranking_loss\n",
    "from sklearn.metrics import precision_recall_fscore_support as score\n",
    "from sklearn.model_selection import train_test_split, KFold, cross_val_score\n",
    "from sklearn.multiclass import OneVsRestClassifier\n",
    "from sklearn.pipeline import Pipeline\n",
    "from sklearn.preprocessing import MultiLabelBinarizer, LabelEncoder\n",
    "from sklearn.svm import LinearSVC, SVC\n",
    "\n",
    "from skmultilearn.adapt import MLkNN\n",
    "from skmultilearn.model_selection import iterative_train_test_split\n",
    "from skmultilearn.model_selection.measures import get_combination_wise_output_matrix\n",
    "from skmultilearn.problem_transform import ClassifierChain, BinaryRelevance, LabelPowerset\n",
    "\n",
    "from scipy.sparse import csr_matrix, lil_matrix\n",
    "from yellowbrick.text import FreqDistVisualizer, TSNEVisualizer\n",
    "\n"
   ]
  },
  {
   "cell_type": "code",
   "execution_count": 3,
   "metadata": {},
   "outputs": [],
   "source": [
    "# Suppression des FutureWarnings\n",
    "warnings.simplefilter(action='ignore', category=FutureWarning)\n",
    "warnings.simplefilter(action='ignore', category=DeprecationWarning)\n",
    "warnings.filterwarnings(\"ignore\")"
   ]
  },
  {
   "cell_type": "code",
   "execution_count": 9,
   "metadata": {},
   "outputs": [],
   "source": [
    "# Activation PEP8\n",
    "%load_ext pycodestyle_magic\n",
    "%pycodestyle_on"
   ]
  },
  {
   "cell_type": "code",
   "execution_count": null,
   "metadata": {},
   "outputs": [],
   "source": [
    "# Parametres graphiques\n",
    "%matplotlib inline\n",
    "rc = {\n",
    "    'font.size': 14,\n",
    "    'font.family': 'Arial',\n",
    "    'axes.labelsize': 14,\n",
    "    'legend.fontsize': 12,\n",
    "    'axes.titlesize': 14,\n",
    "    'xtick.labelsize': 12,\n",
    "    'ytick.labelsize': 12,\n",
    "    'figure.max_open_warning': 30}\n",
    "\n",
    "sns.set(font='Arial', rc=rc)\n",
    "sns.set_style(\n",
    "    \"whitegrid\", {\n",
    "        'axes.edgecolor': 'k',\n",
    "        'axes.linewidth': 1,\n",
    "        'axes.grid': True,\n",
    "        'xtick.major.width': 1,\n",
    "        'ytick.major.width': 1\n",
    "        })\n",
    "sns.set_context(\n",
    "    \"notebook\",\n",
    "    font_scale=1.1,\n",
    "    rc={\"lines.linewidth\": 1.5})\n",
    "pd.set_option('display.max_columns', None)"
   ]
  },
  {
   "cell_type": "code",
   "execution_count": 12,
   "metadata": {},
   "outputs": [],
   "source": [
    "# Define path\n",
    "data_path = \"./data\""
   ]
  },
  {
   "cell_type": "code",
   "execution_count": 13,
   "metadata": {},
   "outputs": [
    {
     "name": "stdout",
     "output_type": "stream",
     "text": [
      "(89416, 12)\n"
     ]
    },
    {
     "data": {
      "text/html": [
       "<div>\n",
       "<style scoped>\n",
       "    .dataframe tbody tr th:only-of-type {\n",
       "        vertical-align: middle;\n",
       "    }\n",
       "\n",
       "    .dataframe tbody tr th {\n",
       "        vertical-align: top;\n",
       "    }\n",
       "\n",
       "    .dataframe thead th {\n",
       "        text-align: right;\n",
       "    }\n",
       "</style>\n",
       "<table border=\"1\" class=\"dataframe\">\n",
       "  <thead>\n",
       "    <tr style=\"text-align: right;\">\n",
       "      <th></th>\n",
       "      <th>PPN</th>\n",
       "      <th>TITRE</th>\n",
       "      <th>RESUME</th>\n",
       "      <th>RAMEAU</th>\n",
       "      <th>DEWEY</th>\n",
       "      <th>DESCR</th>\n",
       "      <th>DDC</th>\n",
       "      <th>TEF_LABEL</th>\n",
       "      <th>test_tiret</th>\n",
       "      <th>rameau_list</th>\n",
       "      <th>rameau_list_unstack</th>\n",
       "      <th>DESCR_processed</th>\n",
       "    </tr>\n",
       "  </thead>\n",
       "  <tbody>\n",
       "    <tr>\n",
       "      <th>0</th>\n",
       "      <td>000002364</td>\n",
       "      <td>La culture pour vivre</td>\n",
       "      <td>Mort de la culture populaire en France. Mutati...</td>\n",
       "      <td>Culture populaire;Diffusion de la culture;Poli...</td>\n",
       "      <td>840</td>\n",
       "      <td>La culture pour vivre Mort de la culture popul...</td>\n",
       "      <td>840.0</td>\n",
       "      <td>Littérature de langues romanes. Littérature fr...</td>\n",
       "      <td>False</td>\n",
       "      <td>['Culture populaire;Diffusion de la culture;Po...</td>\n",
       "      <td>[Culture populaire, Diffusion de la culture, P...</td>\n",
       "      <td>culture vivre mort culture populaire franc mut...</td>\n",
       "    </tr>\n",
       "    <tr>\n",
       "      <th>1</th>\n",
       "      <td>000014877</td>\n",
       "      <td>La nuit, le jour : essai psychanalytique sur l...</td>\n",
       "      <td>Discontinuité, latence, rétablissement dune c...</td>\n",
       "      <td>Complexe de castration;Psychanalyse;Rêves</td>\n",
       "      <td>154.63</td>\n",
       "      <td>La nuit, le jour : essai psychanalytique sur l...</td>\n",
       "      <td>150.0</td>\n",
       "      <td>Psychologie</td>\n",
       "      <td>False</td>\n",
       "      <td>['Complexe de castration;Psychanalyse;Rêves']</td>\n",
       "      <td>[Complexe de castration, Psychanalyse, Rêves]</td>\n",
       "      <td>nuit jour essai psychanalytique fonctionnement...</td>\n",
       "    </tr>\n",
       "    <tr>\n",
       "      <th>2</th>\n",
       "      <td>000021857</td>\n",
       "      <td>Ruptures, cultures</td>\n",
       "      <td>Il faut imaginer Robinson sur son île, au mome...</td>\n",
       "      <td>Culture</td>\n",
       "      <td>840</td>\n",
       "      <td>Ruptures, cultures Il faut imaginer Robinson s...</td>\n",
       "      <td>840.0</td>\n",
       "      <td>Littérature de langues romanes. Littérature fr...</td>\n",
       "      <td>False</td>\n",
       "      <td>['Culture']</td>\n",
       "      <td>[Culture]</td>\n",
       "      <td>rupture culture falloir imaginer robinson il m...</td>\n",
       "    </tr>\n",
       "    <tr>\n",
       "      <th>3</th>\n",
       "      <td>00002564X</td>\n",
       "      <td>La révolution structurale</td>\n",
       "      <td>Mutations ou crises, les brusques accès de fiè...</td>\n",
       "      <td>Structuralisme</td>\n",
       "      <td>100</td>\n",
       "      <td>La révolution structurale Mutations ou crises,...</td>\n",
       "      <td>100.0</td>\n",
       "      <td>Philosophie, psychologie</td>\n",
       "      <td>False</td>\n",
       "      <td>['Structuralisme']</td>\n",
       "      <td>[Structuralisme]</td>\n",
       "      <td>revolution structural mutation crise brusque a...</td>\n",
       "    </tr>\n",
       "    <tr>\n",
       "      <th>4</th>\n",
       "      <td>000026352</td>\n",
       "      <td>La Destruction du temple</td>\n",
       "      <td>Oswald tire sur Kennedy. Jusque-là, c'est bon,...</td>\n",
       "      <td>Science-fiction américaine -- Traductions fran...</td>\n",
       "      <td>830</td>\n",
       "      <td>La Destruction du temple Oswald tire sur Kenne...</td>\n",
       "      <td>830.0</td>\n",
       "      <td>Littérature allemande</td>\n",
       "      <td>True</td>\n",
       "      <td>['Science-fiction américaine -- Traductions fr...</td>\n",
       "      <td>[Science-fiction américaine, Traductions franç...</td>\n",
       "      <td>destruction temple oswald tire kennedy bon foi...</td>\n",
       "    </tr>\n",
       "  </tbody>\n",
       "</table>\n",
       "</div>"
      ],
      "text/plain": [
       "         PPN                                              TITRE  \\\n",
       "0  000002364                              La culture pour vivre   \n",
       "1  000014877  La nuit, le jour : essai psychanalytique sur l...   \n",
       "2  000021857                                 Ruptures, cultures   \n",
       "3  00002564X                          La révolution structurale   \n",
       "4  000026352                           La Destruction du temple   \n",
       "\n",
       "                                              RESUME  \\\n",
       "0  Mort de la culture populaire en France. Mutati...   \n",
       "1  Discontinuité, latence, rétablissement dune c...   \n",
       "2  Il faut imaginer Robinson sur son île, au mome...   \n",
       "3  Mutations ou crises, les brusques accès de fiè...   \n",
       "4  Oswald tire sur Kennedy. Jusque-là, c'est bon,...   \n",
       "\n",
       "                                              RAMEAU   DEWEY  \\\n",
       "0  Culture populaire;Diffusion de la culture;Poli...     840   \n",
       "1          Complexe de castration;Psychanalyse;Rêves  154.63   \n",
       "2                                            Culture     840   \n",
       "3                                     Structuralisme     100   \n",
       "4  Science-fiction américaine -- Traductions fran...     830   \n",
       "\n",
       "                                               DESCR    DDC  \\\n",
       "0  La culture pour vivre Mort de la culture popul...  840.0   \n",
       "1  La nuit, le jour : essai psychanalytique sur l...  150.0   \n",
       "2  Ruptures, cultures Il faut imaginer Robinson s...  840.0   \n",
       "3  La révolution structurale Mutations ou crises,...  100.0   \n",
       "4  La Destruction du temple Oswald tire sur Kenne...  830.0   \n",
       "\n",
       "                                           TEF_LABEL  test_tiret  \\\n",
       "0  Littérature de langues romanes. Littérature fr...       False   \n",
       "1                                        Psychologie       False   \n",
       "2  Littérature de langues romanes. Littérature fr...       False   \n",
       "3                           Philosophie, psychologie       False   \n",
       "4                              Littérature allemande        True   \n",
       "\n",
       "                                         rameau_list  \\\n",
       "0  ['Culture populaire;Diffusion de la culture;Po...   \n",
       "1      ['Complexe de castration;Psychanalyse;Rêves']   \n",
       "2                                        ['Culture']   \n",
       "3                                 ['Structuralisme']   \n",
       "4  ['Science-fiction américaine -- Traductions fr...   \n",
       "\n",
       "                                 rameau_list_unstack  \\\n",
       "0  [Culture populaire, Diffusion de la culture, P...   \n",
       "1      [Complexe de castration, Psychanalyse, Rêves]   \n",
       "2                                          [Culture]   \n",
       "3                                   [Structuralisme]   \n",
       "4  [Science-fiction américaine, Traductions franç...   \n",
       "\n",
       "                                     DESCR_processed  \n",
       "0  culture vivre mort culture populaire franc mut...  \n",
       "1  nuit jour essai psychanalytique fonctionnement...  \n",
       "2  rupture culture falloir imaginer robinson il m...  \n",
       "3  revolution structural mutation crise brusque a...  \n",
       "4  destruction temple oswald tire kennedy bon foi...  "
      ]
     },
     "execution_count": 13,
     "metadata": {},
     "output_type": "execute_result"
    },
    {
     "name": "stderr",
     "output_type": "stream",
     "text": [
      "2:80: E501 line too long (143 > 79 characters)\n"
     ]
    }
   ],
   "source": [
    "# Import data\n",
    "df = pd.read_csv(os.path.join(data_path, \"working_data_rameau_preprocessed_datav1.csv\"), converters={\"rameau_list_unstack\": eval}, index_col=0)\n",
    "print(df.shape)\n",
    "df.head()"
   ]
  },
  {
   "cell_type": "code",
   "execution_count": 14,
   "metadata": {},
   "outputs": [],
   "source": [
    "# label encoding\n",
    "def encoding(df, corpus, col_label):\n",
    "    df_encoded = df.copy()\n",
    "\n",
    "    # define X and y\n",
    "    X = df_encoded[corpus]\n",
    "    y = df_encoded[col_label]\n",
    "\n",
    "    # encode labels\n",
    "    mlb = MultiLabelBinarizer()\n",
    "    y_encoded = mlb.fit_transform(y)\n",
    "    classes = mlb.classes_\n",
    "    return X, y_encoded, classes, mlb"
   ]
  },
  {
   "cell_type": "markdown",
   "metadata": {},
   "source": [
    "## Split dataset"
   ]
  },
  {
   "cell_type": "code",
   "execution_count": 16,
   "metadata": {},
   "outputs": [
    {
     "name": "stderr",
     "output_type": "stream",
     "text": [
      "15:80: E501 line too long (80 > 79 characters)\n"
     ]
    }
   ],
   "source": [
    "# Iterative Splitting pour multilabel\n",
    "def iterative_train_test_split_dataframe(df, corpus, col_label, test_size):\n",
    "\n",
    "    # encode labels\n",
    "    print(\"Encoding labels\")\n",
    "    X, y, classes, mlb = encoding(\n",
    "        df,\n",
    "        corpus=corpus,\n",
    "        col_label=col_label)\n",
    "    print(\"Labels encoded\")\n",
    "\n",
    "    # split data\n",
    "    print(\"splitting data\")\n",
    "    df_index = X.index.to_numpy().reshape(-1, 1)\n",
    "    df_index_train, y_train, df_index_test, y_test = iterative_train_test_split(\n",
    "        df_index, y, test_size=test_size)\n",
    "    print(\"Data splitted\")\n",
    "    print(\"Finalizing X_train and X_test\")\n",
    "    X_train = X.loc[df_index_train[:, 0]]\n",
    "    X_test = X.loc[df_index_test[:, 0]]\n",
    "    return (\n",
    "        X_train, y_train,\n",
    "        X_test, y_test,\n",
    "        df_index_train, df_index_test,\n",
    "        classes, mlb)"
   ]
  },
  {
   "cell_type": "code",
   "execution_count": 17,
   "metadata": {},
   "outputs": [
    {
     "name": "stdout",
     "output_type": "stream",
     "text": [
      "Encoding labels\n",
      "Labels encoded\n",
      "splitting data\n",
      "Data splitted\n",
      "Finalizing X_train and X_test\n"
     ]
    },
    {
     "name": "stderr",
     "output_type": "stream",
     "text": [
      "2:80: E501 line too long (111 > 79 characters)\n"
     ]
    }
   ],
   "source": [
    "# Split data\n",
    "X_train, y_train, X_test, y_test, index_train, index_test, classes, mlb = iterative_train_test_split_dataframe(\n",
    "    df,\n",
    "    corpus=\"DESCR_processed\",\n",
    "    col_label=\"rameau_list_unstack\",\n",
    "    test_size=0.25)"
   ]
  },
  {
   "cell_type": "code",
   "execution_count": 18,
   "metadata": {},
   "outputs": [
    {
     "name": "stdout",
     "output_type": "stream",
     "text": [
      "nombre de labels différents:  21374\n"
     ]
    },
    {
     "data": {
      "text/plain": [
       "array([\"'Ndrangheta\",\n",
       "       '10 et 11 janvier 2015, Manifestations des (France)',\n",
       "       '11 septembre 2001, Attentats du (États-Unis)', ...,\n",
       "       'Îlot thermique urbain', 'économie', 'éthique'], dtype=object)"
      ]
     },
     "execution_count": 18,
     "metadata": {},
     "output_type": "execute_result"
    }
   ],
   "source": [
    "# Check classes\n",
    "print(\"nombre de labels différents: \", len(classes))\n",
    "classes"
   ]
  },
  {
   "cell_type": "code",
   "execution_count": 19,
   "metadata": {},
   "outputs": [
    {
     "name": "stdout",
     "output_type": "stream",
     "text": [
      "train dataset size : 67038\n",
      "test dataset size : 22378\n"
     ]
    }
   ],
   "source": [
    "# Check size of test and train datasets\n",
    "print(f\"train dataset size : {len(y_train)}\")\n",
    "print(f\"test dataset size : {len(y_test)}\")"
   ]
  },
  {
   "cell_type": "code",
   "execution_count": 20,
   "metadata": {},
   "outputs": [
    {
     "ename": "NameError",
     "evalue": "name 'Counter' is not defined",
     "output_type": "error",
     "traceback": [
      "\u001b[1;31m---------------------------------------------------------------------------\u001b[0m",
      "\u001b[1;31mNameError\u001b[0m                                 Traceback (most recent call last)",
      "Cell \u001b[1;32mIn[20], line 8\u001b[0m\n\u001b[0;32m      3\u001b[0m order \u001b[39m=\u001b[39m \u001b[39m3\u001b[39m\n\u001b[0;32m      4\u001b[0m X, y, classes, _ \u001b[39m=\u001b[39m encoding(\n\u001b[0;32m      5\u001b[0m     df,\n\u001b[0;32m      6\u001b[0m     corpus\u001b[39m=\u001b[39m\u001b[39m\"\u001b[39m\u001b[39mDESCR_processed\u001b[39m\u001b[39m\"\u001b[39m,\n\u001b[0;32m      7\u001b[0m     col_label\u001b[39m=\u001b[39m\u001b[39m\"\u001b[39m\u001b[39mrameau_list_unstack\u001b[39m\u001b[39m\"\u001b[39m)\n\u001b[1;32m----> 8\u001b[0m Counter(combination \u001b[39mfor\u001b[39;00m row \u001b[39min\u001b[39;00m get_combination_wise_output_matrix(y, order\u001b[39m=\u001b[39morder) \u001b[39mfor\u001b[39;00m combination \u001b[39min\u001b[39;00m row)\n",
      "\u001b[1;31mNameError\u001b[0m: name 'Counter' is not defined"
     ]
    },
    {
     "name": "stderr",
     "output_type": "stream",
     "text": [
      "2:80: E501 line too long (84 > 79 characters)\n",
      "8:80: E501 line too long (105 > 79 characters)\n"
     ]
    }
   ],
   "source": [
    "# Check splitting balance\n",
    "from skmultilearn.model_selection.measures import get_combination_wise_output_matrix\n",
    "order = 3\n",
    "X, y, classes, _ = encoding(\n",
    "    df,\n",
    "    corpus=\"DESCR_processed\",\n",
    "    col_label=\"rameau_list_unstack\")\n",
    "Counter(combination for row in get_combination_wise_output_matrix(y, order=order) for combination in row)"
   ]
  },
  {
   "cell_type": "code",
   "execution_count": null,
   "metadata": {},
   "outputs": [],
   "source": [
    "# Balance following data split\n",
    "pd.DataFrame({\n",
    "    'train': Counter(\n",
    "        str(combination) for row in get_combination_wise_output_matrix(\n",
    "            y_train, order=order) for combination in row),\n",
    "    'test': Counter(\n",
    "        str(combination) for row in get_combination_wise_output_matrix(\n",
    "            y_test, order=order) for combination in row)\n",
    "}).T.fillna(0.0)"
   ]
  },
  {
   "cell_type": "markdown",
   "metadata": {},
   "source": [
    "## Vectorize dataset (tf-idf)"
   ]
  },
  {
   "cell_type": "code",
   "execution_count": 21,
   "metadata": {},
   "outputs": [
    {
     "name": "stderr",
     "output_type": "stream",
     "text": [
      "5:5: E125 continuation line with same indent as next logical line\n"
     ]
    }
   ],
   "source": [
    "# TF-IDf vectorization\n",
    "def vectorizer_tfidf(\n",
    "    X_train, X_test, max_df, min_df,\n",
    "    max_features, n_gram=(1, 2),\n",
    "    save=True):\n",
    "    regex_pattern = r'\\w{3,}'\n",
    "    vectorizer = TfidfVectorizer(\n",
    "        max_df=max_df,\n",
    "        min_df=min_df,\n",
    "        max_features=max_features,\n",
    "        ngram_range=n_gram,\n",
    "        token_pattern=regex_pattern)\n",
    "    X_train = vectorizer.fit_transform(X_train)\n",
    "    X_test = vectorizer.transform(X_test)\n",
    "    features = vectorizer.get_feature_names_out()\n",
    "    if save:\n",
    "        pickle.dump(\n",
    "            vectorizer,\n",
    "            open(os.path.join(output_path, \"tfidf.pickle\"), \"wb\"))\n",
    "    return X_train, X_test, features"
   ]
  },
  {
   "cell_type": "code",
   "execution_count": 22,
   "metadata": {},
   "outputs": [],
   "source": [
    "# Set parameters for tf-idf\n",
    "max_df = 0.5\n",
    "min_df = 5\n",
    "max_features = 500\n",
    "n_gram = (1, 3)"
   ]
  },
  {
   "cell_type": "code",
   "execution_count": 23,
   "metadata": {},
   "outputs": [],
   "source": [
    "# Vectorize corpus\n",
    "X_train_vect, X_test_vect, features = vectorizer_tfidf(\n",
    "    X_train, X_test, max_df, min_df,\n",
    "    max_features, n_gram=n_gram, save=False)"
   ]
  },
  {
   "cell_type": "code",
   "execution_count": 24,
   "metadata": {},
   "outputs": [
    {
     "data": {
      "image/png": "[encoded data removed]",
      "text/plain": [
       "<Figure size 2000x1000 with 1 Axes>"
      ]
     },
     "metadata": {},
     "output_type": "display_data"
    },
    {
     "data": {
      "text/plain": [
       "<Axes: title={'center': 'Frequency Distribution of Top 50 tokens'}>"
      ]
     },
     "execution_count": 24,
     "metadata": {},
     "output_type": "execute_result"
    }
   ],
   "source": [
    "# Visualize Word Frequency Distribution\n",
    "plt.figure(figsize=(20, 10))\n",
    "visualizer = FreqDistVisualizer(features=features, n=50, orient=\"v\")\n",
    "visualizer.fit(X_train_vect)\n",
    "visualizer.show()"
   ]
  },
  {
   "cell_type": "code",
   "execution_count": 25,
   "metadata": {},
   "outputs": [],
   "source": [
    "# Encoding TEF labels\n",
    "lab_encod = LabelEncoder()\n",
    "TEF_test_encoded = lab_encod.fit_transform(\n",
    "    df.loc[index_test[:, 0], 'TEF_LABEL'].values)\n",
    "TEF_train_encoded = lab_encod.fit_transform(\n",
    "    df.loc[index_train[:, 0], 'TEF_LABEL'].values)"
   ]
  },
  {
   "attachments": {},
   "cell_type": "markdown",
   "metadata": {},
   "source": []
  },
  {
   "cell_type": "code",
   "execution_count": null,
   "metadata": {},
   "outputs": [],
   "source": [
    "# Visualize the dataset with T-SNE\n",
    "tsne = TSNEVisualizer()\n",
    "tsne.fit(X_test_vect, TEF_test_encoded)\n",
    "tsne.show()"
   ]
  },
  {
   "attachments": {},
   "cell_type": "markdown",
   "metadata": {},
   "source": [
    "## Basic classification models"
   ]
  },
  {
   "cell_type": "code",
   "execution_count": 26,
   "metadata": {},
   "outputs": [],
   "source": [
    "# Save model\n",
    "def save_model_pkl(model, modelname):\n",
    "    joblib.dump(model, os.path.join(output_path, modelname))"
   ]
  },
  {
   "cell_type": "code",
   "execution_count": 27,
   "metadata": {},
   "outputs": [
    {
     "name": "stderr",
     "output_type": "stream",
     "text": [
      "53:80: E501 line too long (102 > 79 characters)\n"
     ]
    }
   ],
   "source": [
    "# Training of transformed classifier for multi-label purpose\n",
    "def classification_model(X_train, y_train, algo, transf=\"\", save=True):\n",
    "    if algo == 'lr':\n",
    "        model = LogisticRegression(\n",
    "            solver='saga',\n",
    "            max_iter=500,\n",
    "            class_weight='balanced')\n",
    "        require_dense = [False, True]\n",
    "    elif algo == 'svc':\n",
    "        model = LinearSVC(\n",
    "            max_iter=500,\n",
    "            class_weight='balanced')\n",
    "        require_dense = [False, True]\n",
    "    elif algo == 'MultinomialNB':\n",
    "        model = MultinomialNB()\n",
    "        require_dense = [False, True]\n",
    "    elif algo == 'GaussianNB':\n",
    "        model = GaussianNB()\n",
    "        require_dense = [True, True]\n",
    "    elif algo == 'knn':\n",
    "        model = KNeighborsClassifier(n_neighbors=3)\n",
    "        require_dense = [False, False]\n",
    "    elif algo == 'MLkNN':\n",
    "        model = MLkNN(k=3)\n",
    "    elif algo == 'rf':\n",
    "        model = RandomForestClassifier(\n",
    "            random_state=RANDOM_STATE,\n",
    "            class_weight='balanced',\n",
    "            max_depth=20,\n",
    "            n_jobs=-1)\n",
    "        require_dense = [False, True]\n",
    "    elif algo == 'tree':\n",
    "        model = DecisionTreeClassifier()\n",
    "        require_dense = [False, True]\n",
    "    elif algo == \"bagging\":\n",
    "        model = BaggingClassifier(n_jobs=-1)\n",
    "        require_dense = [False, True]\n",
    "    elif algo == \"boosting\":\n",
    "        model = GradientBoostingClassifier()\n",
    "        require_dense = [False, True]\n",
    "    else:\n",
    "        print('The algo ' + algo + ' is not defined!')\n",
    "    if transf == 'BR':\n",
    "        clf = BinaryRelevance(model, require_dense=require_dense)\n",
    "    elif transf == 'CC':\n",
    "        clf = ClassifierChain(model, require_dense=require_dense)\n",
    "    elif transf == 'LP':\n",
    "        clf = LabelPowerset(model, require_dense=require_dense)\n",
    "    elif transf == 'OneVsRest':\n",
    "        clf = OneVsRestClassifier(model)\n",
    "    else:\n",
    "        clf = model\n",
    "    get_ipython().run_line_magic('time', 'clf.fit(X_train, y_train)  # Training the model on dataset')\n",
    "    if save:\n",
    "        save_model_pkl(clf, str(algo + \".pickle\"))\n",
    "    return clf"
   ]
  },
  {
   "cell_type": "code",
   "execution_count": 28,
   "metadata": {},
   "outputs": [
    {
     "name": "stderr",
     "output_type": "stream",
     "text": [
      "4:80: E501 line too long (80 > 79 characters)\n",
      "7:80: E501 line too long (80 > 79 characters)\n",
      "11:80: E501 line too long (84 > 79 characters)\n",
      "18:80: E501 line too long (104 > 79 characters)\n",
      "19:80: E501 line too long (122 > 79 characters)\n",
      "20:80: E501 line too long (96 > 79 characters)\n",
      "21:80: E501 line too long (87 > 79 characters)\n",
      "22:80: E501 line too long (83 > 79 characters)\n"
     ]
    }
   ],
   "source": [
    "# Compute metrics\n",
    "def metricsReport(modelName, test_labels, predictions, print_metrics=False):\n",
    "    accuracy = accuracy_score(test_labels, predictions)\n",
    "    macro_precision = precision_score(test_labels, predictions, average='macro')\n",
    "    macro_recall = recall_score(test_labels, predictions, average='macro')\n",
    "    macro_f1 = f1_score(test_labels, predictions, average='macro')\n",
    "    micro_precision = precision_score(test_labels, predictions, average='micro')\n",
    "    micro_recall = recall_score(test_labels, predictions, average='micro')\n",
    "    micro_f1 = f1_score(test_labels, predictions, average='micro')\n",
    "    hamLoss = hamming_loss(test_labels, predictions)\n",
    "    lrap = label_ranking_average_precision_score(test_labels, predictions.toarray())\n",
    "    lrl = label_ranking_loss(test_labels, predictions.toarray())\n",
    "    cov_error = coverage_error(test_labels, predictions.toarray())\n",
    "    EMR = np.all(test_labels == predictions, axis=1).mean()\n",
    "    if print_metrics:\n",
    "        # Print result\n",
    "        print(\"------\" + modelName + \" Model Metrics-----\")\n",
    "        print(f\"Accuracy: {accuracy:.4f}\\nHamming Loss: {hamLoss:.4f}\\nCoverage Error: {cov_error:.4f}\")\n",
    "        print(f\"Exact Match Ratio: {EMR:.4f}\\nRanking Loss: {lrl:.4f}\\nLabel Ranking avarge precision (LRAP): {lrap:.4f}\")\n",
    "        print(f\"Precision:\\n  - Macro: {macro_precision:.4f}\\n  - Micro: {micro_precision:.4f}\")\n",
    "        print(f\"Recall:\\n  - Macro: {macro_recall:.4f}\\n  - Micro: {micro_recall:.4f}\")\n",
    "        print(f\"F1-measure:\\n  - Macro: {macro_f1:.4f}\\n  - Micro: {micro_f1:.4f}\")\n",
    "    return {\n",
    "        \"Accuracy\": accuracy,\n",
    "        \"Hamming Loss\": hamLoss,\n",
    "        \"Coverage Error\": cov_error,\n",
    "        \"Exact Match Ratio\": EMR,\n",
    "        \"Ranking Loss\": lrl,\n",
    "        \"Label Ranking avarge precision (LRAP)\": lrap,\n",
    "        \"Precision\": {\n",
    "            \"Macro\": macro_precision,\n",
    "            \"Micro\": micro_precision},\n",
    "        \"Recall\": {\n",
    "            \"Macro\": macro_recall,\n",
    "            \"Micro\": micro_recall},\n",
    "        \"F1-measure\": {\n",
    "            \"Macro\": macro_f1,\n",
    "            \"Micro\": micro_f1}}"
   ]
  },
  {
   "cell_type": "code",
   "execution_count": 29,
   "metadata": {},
   "outputs": [],
   "source": [
    "# Define models and transformations\n",
    "model_list = [\n",
    "    'svc', 'MultinomialNB', 'lr',\n",
    "    'knn', 'GaussianNB', 'tree', 'rf',\n",
    "    'bagging', 'boosting']\n",
    "transf_list = [\"LP\"]\n",
    "ModelsPerformance = {}"
   ]
  },
  {
   "cell_type": "code",
   "execution_count": 30,
   "metadata": {},
   "outputs": [
    {
     "name": "stdout",
     "output_type": "stream",
     "text": [
      "Treating model: svc adapted with LP\n",
      "CPU times: total: 1h 35min 43s\n",
      "Wall time: 3h 40min 50s\n",
      "model fitted\n"
     ]
    },
    {
     "ename": "MemoryError",
     "evalue": "Unable to allocate 8.40 GiB for an array with shape (22378, 50352) and data type float64",
     "output_type": "error",
     "traceback": [
      "\u001b[1;31m---------------------------------------------------------------------------\u001b[0m",
      "\u001b[1;31mMemoryError\u001b[0m                               Traceback (most recent call last)",
      "Cell \u001b[1;32mIn[30], line 13\u001b[0m\n\u001b[0;32m      6\u001b[0m clf \u001b[39m=\u001b[39m classification_model(\n\u001b[0;32m      7\u001b[0m     X_train\u001b[39m=\u001b[39mX_train_vect,\n\u001b[0;32m      8\u001b[0m     y_train\u001b[39m=\u001b[39my_train,\n\u001b[0;32m      9\u001b[0m     algo\u001b[39m=\u001b[39mmodel,\n\u001b[0;32m     10\u001b[0m     transf\u001b[39m=\u001b[39mtransf,\n\u001b[0;32m     11\u001b[0m     save\u001b[39m=\u001b[39m\u001b[39mFalse\u001b[39;00m)\n\u001b[0;32m     12\u001b[0m \u001b[39mprint\u001b[39m(\u001b[39m\"\u001b[39m\u001b[39mmodel fitted\u001b[39m\u001b[39m\"\u001b[39m)\n\u001b[1;32m---> 13\u001b[0m predictions \u001b[39m=\u001b[39m clf\u001b[39m.\u001b[39;49mpredict(X_test_vect)\n\u001b[0;32m     14\u001b[0m \u001b[39mprint\u001b[39m(\u001b[39m\"\u001b[39m\u001b[39mpredictions done\u001b[39m\u001b[39m\"\u001b[39m)\n\u001b[0;32m     15\u001b[0m \u001b[39mprint\u001b[39m(\u001b[39m\"\u001b[39m\u001b[39mComputing metrics\u001b[39m\u001b[39m\"\u001b[39m)\n",
      "File \u001b[1;32mc:\\ProgramData\\Anaconda3\\envs\\abes_index\\lib\\site-packages\\skmultilearn\\problem_transform\\lp.py:160\u001b[0m, in \u001b[0;36mLabelPowerset.predict\u001b[1;34m(self, X)\u001b[0m\n\u001b[0;32m    146\u001b[0m \u001b[39m\"\"\"Predict labels for X\u001b[39;00m\n\u001b[0;32m    147\u001b[0m \n\u001b[0;32m    148\u001b[0m \u001b[39mParameters\u001b[39;00m\n\u001b[1;32m   (...)\u001b[0m\n\u001b[0;32m    156\u001b[0m \u001b[39m    binary indicator matrix with label assignments\u001b[39;00m\n\u001b[0;32m    157\u001b[0m \u001b[39m\"\"\"\u001b[39;00m\n\u001b[0;32m    159\u001b[0m \u001b[39m# this will be an np.array of integers representing classes\u001b[39;00m\n\u001b[1;32m--> 160\u001b[0m lp_prediction \u001b[39m=\u001b[39m \u001b[39mself\u001b[39;49m\u001b[39m.\u001b[39;49mclassifier\u001b[39m.\u001b[39;49mpredict(\u001b[39mself\u001b[39;49m\u001b[39m.\u001b[39;49m_ensure_input_format(X))\n\u001b[0;32m    162\u001b[0m \u001b[39mreturn\u001b[39;00m \u001b[39mself\u001b[39m\u001b[39m.\u001b[39minverse_transform(lp_prediction)\n",
      "File \u001b[1;32mc:\\ProgramData\\Anaconda3\\envs\\abes_index\\lib\\site-packages\\sklearn\\linear_model\\_base.py:420\u001b[0m, in \u001b[0;36mLinearClassifierMixin.predict\u001b[1;34m(self, X)\u001b[0m\n\u001b[0;32m    406\u001b[0m \u001b[39m\"\"\"\u001b[39;00m\n\u001b[0;32m    407\u001b[0m \u001b[39mPredict class labels for samples in X.\u001b[39;00m\n\u001b[0;32m    408\u001b[0m \n\u001b[1;32m   (...)\u001b[0m\n\u001b[0;32m    417\u001b[0m \u001b[39m    Vector containing the class labels for each sample.\u001b[39;00m\n\u001b[0;32m    418\u001b[0m \u001b[39m\"\"\"\u001b[39;00m\n\u001b[0;32m    419\u001b[0m xp, _ \u001b[39m=\u001b[39m get_namespace(X)\n\u001b[1;32m--> 420\u001b[0m scores \u001b[39m=\u001b[39m \u001b[39mself\u001b[39;49m\u001b[39m.\u001b[39;49mdecision_function(X)\n\u001b[0;32m    421\u001b[0m \u001b[39mif\u001b[39;00m \u001b[39mlen\u001b[39m(scores\u001b[39m.\u001b[39mshape) \u001b[39m==\u001b[39m \u001b[39m1\u001b[39m:\n\u001b[0;32m    422\u001b[0m     indices \u001b[39m=\u001b[39m xp\u001b[39m.\u001b[39mastype(scores \u001b[39m>\u001b[39m \u001b[39m0\u001b[39m, \u001b[39mint\u001b[39m)\n",
      "File \u001b[1;32mc:\\ProgramData\\Anaconda3\\envs\\abes_index\\lib\\site-packages\\sklearn\\linear_model\\_base.py:402\u001b[0m, in \u001b[0;36mLinearClassifierMixin.decision_function\u001b[1;34m(self, X)\u001b[0m\n\u001b[0;32m    399\u001b[0m xp, _ \u001b[39m=\u001b[39m get_namespace(X)\n\u001b[0;32m    401\u001b[0m X \u001b[39m=\u001b[39m \u001b[39mself\u001b[39m\u001b[39m.\u001b[39m_validate_data(X, accept_sparse\u001b[39m=\u001b[39m\u001b[39m\"\u001b[39m\u001b[39mcsr\u001b[39m\u001b[39m\"\u001b[39m, reset\u001b[39m=\u001b[39m\u001b[39mFalse\u001b[39;00m)\n\u001b[1;32m--> 402\u001b[0m scores \u001b[39m=\u001b[39m safe_sparse_dot(X, \u001b[39mself\u001b[39;49m\u001b[39m.\u001b[39;49mcoef_\u001b[39m.\u001b[39;49mT, dense_output\u001b[39m=\u001b[39;49m\u001b[39mTrue\u001b[39;49;00m) \u001b[39m+\u001b[39;49m \u001b[39mself\u001b[39;49m\u001b[39m.\u001b[39;49mintercept_\n\u001b[0;32m    403\u001b[0m \u001b[39mreturn\u001b[39;00m xp\u001b[39m.\u001b[39mreshape(scores, \u001b[39m-\u001b[39m\u001b[39m1\u001b[39m) \u001b[39mif\u001b[39;00m scores\u001b[39m.\u001b[39mshape[\u001b[39m1\u001b[39m] \u001b[39m==\u001b[39m \u001b[39m1\u001b[39m \u001b[39melse\u001b[39;00m scores\n",
      "\u001b[1;31mMemoryError\u001b[0m: Unable to allocate 8.40 GiB for an array with shape (22378, 50352) and data type float64"
     ]
    },
    {
     "name": "stderr",
     "output_type": "stream",
     "text": [
      "16:80: E501 line too long (101 > 79 characters)\n"
     ]
    }
   ],
   "source": [
    "# Run models\n",
    "for model in model_list:\n",
    "    for transf in transf_list:\n",
    "        print(f\"Treating model: {model} adapted with {transf}\")\n",
    "        model_name = str(model + \"_\" + transf)\n",
    "        clf = classification_model(\n",
    "            X_train=X_train_vect,\n",
    "            y_train=y_train,\n",
    "            algo=model,\n",
    "            transf=transf,\n",
    "            save=False)\n",
    "        print(\"model fitted\")\n",
    "        predictions = clf.predict(X_test_vect)\n",
    "        print(\"predictions done\")\n",
    "        print(\"Computing metrics\")\n",
    "        ModelsPerformance[model_name] = metricsReport(model, y_test, predictions, print_metrics=True)"
   ]
  },
  {
   "cell_type": "code",
   "execution_count": null,
   "metadata": {},
   "outputs": [],
   "source": [
    "# Show performances of a specific model\n",
    "model_name = \"svc_LP\"\n",
    "ModelsPerformance[model_name]"
   ]
  },
  {
   "attachments": {},
   "cell_type": "markdown",
   "metadata": {},
   "source": [
    "## Models adapted to multi-label classification"
   ]
  },
  {
   "attachments": {},
   "cell_type": "markdown",
   "metadata": {},
   "source": [
    "### MLKNN"
   ]
  },
  {
   "cell_type": "code",
   "execution_count": null,
   "metadata": {},
   "outputs": [],
   "source": [
    "# MLKNN\n",
    "model = \"MLkNN\"\n",
    "clf = classification_model(\n",
    "        X_train=X_train_vect,\n",
    "        y_train=y_train,\n",
    "        algo=model,\n",
    "        save=False)\n",
    "predictions = clf.predict(X_test_vect)\n",
    "ModelsPerformance[model] = metricsReport(model, y_test, predictions, print_metrics=True)"
   ]
  },
  {
   "attachments": {},
   "cell_type": "markdown",
   "metadata": {},
   "source": [
    "### MEKA"
   ]
  },
  {
   "cell_type": "code",
   "execution_count": null,
   "metadata": {},
   "outputs": [],
   "source": [
    "# MEKA\n",
    "from skmultilearn.ext import download_meka\n",
    "from skmultilearn.ext import Meka\n",
    "\n",
    "meka_classpath = download_meka()\n",
    "meka_classpath"
   ]
  },
  {
   "cell_type": "code",
   "execution_count": null,
   "metadata": {},
   "outputs": [],
   "source": [
    "# Model\n",
    "model = \"Meka\"\n",
    "meka = Meka(\n",
    "        meka_classifier = \"meka.classifiers.multilabel.BR\", # Binary Relevance\n",
    "        weka_classifier = \"weka.classifiers.bayes.NaiveBayesMultinomial\", # with Naive Bayes single-label classifier\n",
    "        meka_classpath = meka_classpath, #obtained via download_meka\n",
    "        java_command = '/usr/bin/java' # path to java executable\n",
    ")\n",
    "meka"
   ]
  },
  {
   "cell_type": "code",
   "execution_count": null,
   "metadata": {},
   "outputs": [],
   "source": [
    "# Fit and performance\n",
    "meka.fit(X_train, y_train)\n",
    "predictions = meka.predict(X_test)\n",
    "ModelsPerformance[model] = metricsReport(model, y_test, predictions, print_metrics=True)"
   ]
  },
  {
   "attachments": {},
   "cell_type": "markdown",
   "metadata": {},
   "source": [
    "### Multiclass Keras classifier"
   ]
  },
  {
   "cell_type": "code",
   "execution_count": null,
   "metadata": {},
   "outputs": [],
   "source": [
    "!pip install -U skorch torch"
   ]
  },
  {
   "cell_type": "code",
   "execution_count": null,
   "metadata": {},
   "outputs": [],
   "source": [
    "import torch\n",
    "from torch import nn\n",
    "import torch.nn.functional as F\n",
    "from skorch import NeuralNetClassifier"
   ]
  },
  {
   "cell_type": "code",
   "execution_count": null,
   "metadata": {},
   "outputs": [],
   "source": [
    "# Define model parameters\n",
    "model= \"neural_network\"\n",
    "nodes = 8\n",
    "input_dim = X_train.shape[1]\n",
    "hidden_dim = int(input_dim/nodes)\n",
    "output_dim = len(np.unique(y_train.rows))"
   ]
  },
  {
   "cell_type": "code",
   "execution_count": null,
   "metadata": {},
   "outputs": [],
   "source": [
    "# Create model\n",
    "class MultiClassClassifierModule(nn.Module):\n",
    "    def __init__(\n",
    "            self,\n",
    "            input_dim=input_dim,\n",
    "            hidden_dim=hidden_dim,\n",
    "            output_dim=output_dim,\n",
    "            dropout=0.5,\n",
    "    ):\n",
    "        super(MultiClassClassifierModule, self).__init__()\n",
    "        self.dropout = nn.Dropout(dropout)\n",
    "        self.hidden = nn.Linear(input_dim, hidden_dim)\n",
    "        self.output = nn.Linear(hidden_dim, output_dim)\n",
    "    def forward(self, X, **kwargs):\n",
    "        X = F.relu(self.hidden(X))\n",
    "        X = self.dropout(X)\n",
    "        X = F.softmax(self.output(X), dim=-1)\n",
    "        return X"
   ]
  },
  {
   "cell_type": "code",
   "execution_count": null,
   "metadata": {},
   "outputs": [],
   "source": [
    "net = NeuralNetClassifier(\n",
    "    MultiClassClassifierModule,\n",
    "    max_epochs=20,\n",
    "    verbose=0\n",
    ")"
   ]
  },
  {
   "cell_type": "code",
   "execution_count": null,
   "metadata": {},
   "outputs": [],
   "source": [
    "# Fit and predict\n",
    "clf = LabelPowerset(classifier=net, require_dense=[True,True])\n",
    "clf.fit(X_train.astype(np.float32),y_train)\n",
    "y_pred = clf.predict(X_test.astype(np.float32))\n",
    "ModelsPerformance[model] = metricsReport(model, y_test, y_pred, print_metrics=True)"
   ]
  },
  {
   "attachments": {},
   "cell_type": "markdown",
   "metadata": {},
   "source": [
    "# Visualize performances"
   ]
  },
  {
   "cell_type": "code",
   "execution_count": null,
   "metadata": {},
   "outputs": [],
   "source": [
    "pd.DataFrame(ModelsPerformance)"
   ]
  },
  {
   "cell_type": "code",
   "execution_count": null,
   "metadata": {},
   "outputs": [],
   "source": [
    "# Save performances\n",
    "pd.DataFrame(ModelsPerformance).to_csv(os.path.join(output_path, \"ML_metrics_13042023.csv\"), index=False)"
   ]
  },
  {
   "attachments": {},
   "cell_type": "markdown",
   "metadata": {},
   "source": [
    "## Test on subsamples for metrics understanding"
   ]
  },
  {
   "attachments": {},
   "cell_type": "markdown",
   "metadata": {},
   "source": [
    "### Test on N samples"
   ]
  },
  {
   "cell_type": "code",
   "execution_count": null,
   "metadata": {},
   "outputs": [],
   "source": [
    "# Define number of samples\n",
    "n = 20"
   ]
  },
  {
   "cell_type": "code",
   "execution_count": null,
   "metadata": {},
   "outputs": [],
   "source": [
    "# Select 20 samples\n",
    "X_test_vect_sample = X_test_vect[:n]\n",
    "y_test_sample = y_test[:n]"
   ]
  },
  {
   "cell_type": "code",
   "execution_count": null,
   "metadata": {},
   "outputs": [],
   "source": [
    "# Recreate labels (vedettes)\n",
    "y_test_labels_sample = mlb.inverse_transform(y_test_sample)\n",
    "y_test_labels_sample"
   ]
  },
  {
   "cell_type": "code",
   "execution_count": null,
   "metadata": {},
   "outputs": [],
   "source": [
    "# Run models\n",
    "ModelsPerformance = {}\n",
    "for model in model_list:\n",
    "    print(\"Treating model: \", model)\n",
    "    clf = classification_model(\n",
    "        X_train=X_train_vect,\n",
    "        y_train=y_train,\n",
    "        algo=model,\n",
    "        save=False)\n",
    "    predictions20 = clf.predict(X_test_vect_20)\n",
    "    ModelsPerformance[model] = metricsReport(model, y_test_20, predictions20, print_metrics=True)"
   ]
  },
  {
   "cell_type": "code",
   "execution_count": null,
   "metadata": {},
   "outputs": [],
   "source": [
    "# index_test\n",
    "index_test[:n].tolist()"
   ]
  },
  {
   "cell_type": "code",
   "execution_count": null,
   "metadata": {},
   "outputs": [],
   "source": [
    "# Refind raw data\n",
    "df.loc[index_test.values]"
   ]
  },
  {
   "cell_type": "code",
   "execution_count": null,
   "metadata": {},
   "outputs": [],
   "source": [
    "# Create dataframe\n",
    "pd.DataFrame([X_test[:n].values, y_test_labels_sample, labels])"
   ]
  }
 ],
 "metadata": {
  "kernelspec": {
   "display_name": "Python 3 (ipykernel)",
   "language": "python",
   "name": "python3"
  },
  "language_info": {
   "codemirror_mode": {
    "name": "ipython",
    "version": 3
   },
   "file_extension": ".py",
   "mimetype": "text/x-python",
   "name": "python",
   "nbconvert_exporter": "python",
   "pygments_lexer": "ipython3",
   "version": "3.10.10"
  }
 },
 "nbformat": 4,
 "nbformat_minor": 2
}
