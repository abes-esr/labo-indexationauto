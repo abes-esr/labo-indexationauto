version https://git-lfs.github.com/spec/v1
oid sha256:efdd49c27b9260499ef42528b47866ab76ea38c831969c0e020c78979d71cb8f
size 3052410
